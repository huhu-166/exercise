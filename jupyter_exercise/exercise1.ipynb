{
 "cells": [
  {
   "cell_type": "markdown",
   "id": "fb4b0b05",
   "metadata": {},
   "source": [
    "Import the required packages"
   ]
  },
  {
   "cell_type": "code",
   "execution_count": 30,
   "id": "38e9d3cf",
   "metadata": {},
   "outputs": [],
   "source": [
    "import torch\n",
    "import os\n",
    "from torch import nn\n",
    "import torchvision  \n",
    "from torchvision import transforms\n",
    "import matplotlib.pyplot as plt\n",
    "import numpy as np"
   ]
  },
  {
   "cell_type": "code",
   "execution_count": 31,
   "id": "4b48ebb7",
   "metadata": {},
   "outputs": [],
   "source": [
    "device = torch.device(\"cuda:0\" if torch.cuda.is_available() else \"cpu\")"
   ]
  },
  {
   "cell_type": "code",
   "execution_count": 32,
   "id": "28d1365a",
   "metadata": {},
   "outputs": [],
   "source": [
    "batch_size=256\n",
    "epochs=30"
   ]
  },
  {
   "cell_type": "markdown",
   "id": "f9046fed",
   "metadata": {},
   "source": [
    "Data import"
   ]
  },
  {
   "cell_type": "code",
   "execution_count": 33,
   "id": "3da08664",
   "metadata": {},
   "outputs": [],
   "source": [
    "transform = transforms.Compose([\n",
    "    #transforms.RandomHorizontalFlip(0.5),\n",
    "    #transforms.RandomRotation(10),\n",
    "    transforms.ToTensor(),\n",
    "    transforms.Normalize((0.5,), (0.5,))\n",
    "])\n",
    "# 下载FashionMNIST数据集  \n",
    "fmnist_train = torchvision.datasets.FashionMNIST(\n",
    "    root='./data', train=True, download=True, transform=transform)\n",
    "fmnist_text = torchvision.datasets.FashionMNIST(\n",
    "    root='./data', train=False, download=True, transform=transform) \n",
    "# 定义数据加载器\n",
    "train_loader = torch.utils.data.DataLoader(\n",
    "    fmnist_train, batch_size=batch_size, shuffle=True)\n",
    "text_loader = torch.utils.data.DataLoader(\n",
    "    fmnist_text, batch_size=batch_size, shuffle=False)"
   ]
  },
  {
   "cell_type": "markdown",
   "id": "f45b07de",
   "metadata": {},
   "source": [
    "Define the network"
   ]
  },
  {
   "cell_type": "code",
   "execution_count": 39,
   "id": "fd327f7c",
   "metadata": {},
   "outputs": [],
   "source": [
    "class Netcnn(nn.Module):\n",
    "    def __init__(self):\n",
    "        super(Netcnn, self).__init__()\n",
    "        self.conv = nn.Sequential(\n",
    "            nn.Conv2d(1, 32, 5),\n",
    "            nn.ReLU(),\n",
    "            nn.MaxPool2d(2, stride=2),\n",
    "            nn.Dropout(0.3),\n",
    "            nn.Conv2d(32, 64, 5),\n",
    "            nn.ReLU(),\n",
    "            nn.MaxPool2d(2, stride=2),\n",
    "            nn.Dropout(0.3)\n",
    "        )\n",
    "        \n",
    "        \n",
    "        self.fc = nn.Sequential(\n",
    "            nn.Linear(64*4*4, 512),\n",
    "            nn.ReLU(),\n",
    "            nn.Linear(512, 10)\n",
    "        )\n",
    "        \n",
    "    def forward(self, x):\n",
    "        x = self.conv(x)\n",
    "        x = x.view(-1, 64*4*4)  # Flatten the tensor\n",
    "        x = self.fc(x)\n",
    "        return x\n",
    "    \n",
    "class Netmlp(nn.Module):\n",
    "    def __init__(self):\n",
    "        super(Netmlp,self).__init__()\n",
    "        self.model = nn.Sequential(\n",
    "            nn.Flatten(),\n",
    "            nn.Linear(28*28, 256),  \n",
    "            nn.ReLU(),\n",
    "            nn.Dropout(0.3),\n",
    "            nn.Linear(256, 128),\n",
    "            nn.ReLU(),\n",
    "            nn.Dropout(0.3),\n",
    "            nn.Linear(128, 64),\n",
    "            nn.ReLU(),\n",
    "            nn.Dropout(0.3),\n",
    "            nn.Linear(64, 10)\n",
    "        )\n",
    "    def forward(self, x):\n",
    "        return self.model(x)\n"
   ]
  },
  {
   "cell_type": "code",
   "execution_count": 35,
   "id": "d898a73e",
   "metadata": {},
   "outputs": [],
   "source": [
    "netcnn=Netcnn().to(device)\n",
    "netmlp=Netmlp().to(device)\n",
    "loss = nn.CrossEntropyLoss()\n",
    "optimizer1 = torch.optim.Adam(netcnn.parameters(), lr=1e-4)\n",
    "optimizer2 = torch.optim.Adam(netmlp.parameters(), lr=0.001,weight_decay=1e-4)"
   ]
  },
  {
   "cell_type": "markdown",
   "id": "e902dc46",
   "metadata": {},
   "source": [
    "Define the function"
   ]
  },
  {
   "cell_type": "code",
   "execution_count": 36,
   "id": "36573343",
   "metadata": {},
   "outputs": [],
   "source": [
    "def train(epoch,net,optimizer): \n",
    "    net.train()\n",
    "    train_loss=0\n",
    "    for batch, (X, y) in enumerate(train_loader):\n",
    "            X, y = X.to(device), y.to(device)\n",
    "            y_hat = net(X)\n",
    "            l = loss(y_hat, y)\n",
    "            optimizer.zero_grad()\n",
    "            l.backward()\n",
    "            optimizer.step()\n",
    "            train_loss += l.item()*X.size(0)\n",
    "    train_loss = train_loss/len(train_loader.dataset)\n",
    "    print('Epoch: {} \\tTraining Loss: {:.6f}'.format(epoch, train_loss))\n",
    "        \n",
    "def validate(epoch,net,optimizer):\n",
    "    net.eval()\n",
    "    val_loss=0\n",
    "    gt_labels=[]\n",
    "    pred_labels=[]\n",
    "    with torch.no_grad():\n",
    "        for batch, (X, y) in enumerate(text_loader):\n",
    "            X, y = X.to(device), y.to(device)   \n",
    "            y_hat=net(X)\n",
    "            preds=torch.argmax(y_hat,1)\n",
    "            gt_labels.append(y.cpu().data.numpy())\n",
    "            pred_labels.append(preds.cpu().data.numpy())\n",
    "            l = loss(y_hat, y)\n",
    "            val_loss+=l.item()*X.size(0)\n",
    "    val_loss=val_loss/len(text_loader.dataset)\n",
    "    gt_labels, pred_labels = np.concatenate(gt_labels), np.concatenate(pred_labels)\n",
    "    acc = np.sum(gt_labels==pred_labels)/len(pred_labels)\n",
    "    print('Epoch: {} \\tValidation Loss: {:.6f}, Accuracy: {:6f}'.format(epoch, val_loss, acc))\n",
    "    "
   ]
  },
  {
   "cell_type": "markdown",
   "id": "718230bd",
   "metadata": {},
   "source": [
    "Train CNN Model"
   ]
  },
  {
   "cell_type": "code",
   "execution_count": 37,
   "id": "cc3b1463",
   "metadata": {},
   "outputs": [
    {
     "name": "stdout",
     "output_type": "stream",
     "text": [
      "Epoch: 1 \tTraining Loss: 0.992943\n",
      "Epoch: 1 \tValidation Loss: 0.637074, Accuracy: 0.760900\n",
      "Epoch: 2 \tTraining Loss: 0.601747\n",
      "Epoch: 2 \tValidation Loss: 0.550952, Accuracy: 0.795600\n",
      "Epoch: 3 \tTraining Loss: 0.540766\n",
      "Epoch: 3 \tValidation Loss: 0.502564, Accuracy: 0.815400\n",
      "Epoch: 4 \tTraining Loss: 0.498180\n",
      "Epoch: 4 \tValidation Loss: 0.463746, Accuracy: 0.834400\n",
      "Epoch: 5 \tTraining Loss: 0.465276\n",
      "Epoch: 5 \tValidation Loss: 0.444925, Accuracy: 0.840700\n",
      "Epoch: 6 \tTraining Loss: 0.439689\n",
      "Epoch: 6 \tValidation Loss: 0.418746, Accuracy: 0.852100\n",
      "Epoch: 7 \tTraining Loss: 0.420472\n",
      "Epoch: 7 \tValidation Loss: 0.399510, Accuracy: 0.858600\n",
      "Epoch: 8 \tTraining Loss: 0.404426\n",
      "Epoch: 8 \tValidation Loss: 0.387895, Accuracy: 0.863900\n",
      "Epoch: 9 \tTraining Loss: 0.391795\n",
      "Epoch: 9 \tValidation Loss: 0.380782, Accuracy: 0.864100\n",
      "Epoch: 10 \tTraining Loss: 0.380440\n",
      "Epoch: 10 \tValidation Loss: 0.372618, Accuracy: 0.867600\n",
      "Epoch: 11 \tTraining Loss: 0.368520\n",
      "Epoch: 11 \tValidation Loss: 0.362353, Accuracy: 0.869300\n",
      "Epoch: 12 \tTraining Loss: 0.363596\n",
      "Epoch: 12 \tValidation Loss: 0.354522, Accuracy: 0.872100\n",
      "Epoch: 13 \tTraining Loss: 0.357021\n",
      "Epoch: 13 \tValidation Loss: 0.353630, Accuracy: 0.875800\n",
      "Epoch: 14 \tTraining Loss: 0.354695\n",
      "Epoch: 14 \tValidation Loss: 0.350094, Accuracy: 0.875400\n",
      "Epoch: 15 \tTraining Loss: 0.349407\n",
      "Epoch: 15 \tValidation Loss: 0.344195, Accuracy: 0.876300\n",
      "Epoch: 16 \tTraining Loss: 0.344895\n",
      "Epoch: 16 \tValidation Loss: 0.338714, Accuracy: 0.877400\n",
      "Epoch: 17 \tTraining Loss: 0.341784\n",
      "Epoch: 17 \tValidation Loss: 0.337720, Accuracy: 0.879900\n",
      "Epoch: 18 \tTraining Loss: 0.337659\n",
      "Epoch: 18 \tValidation Loss: 0.332713, Accuracy: 0.881400\n",
      "Epoch: 19 \tTraining Loss: 0.334382\n",
      "Epoch: 19 \tValidation Loss: 0.328627, Accuracy: 0.883700\n",
      "Epoch: 20 \tTraining Loss: 0.331453\n",
      "Epoch: 20 \tValidation Loss: 0.325938, Accuracy: 0.884000\n",
      "Epoch: 21 \tTraining Loss: 0.327666\n",
      "Epoch: 21 \tValidation Loss: 0.324067, Accuracy: 0.883500\n",
      "Epoch: 22 \tTraining Loss: 0.323132\n",
      "Epoch: 22 \tValidation Loss: 0.325165, Accuracy: 0.883100\n",
      "Epoch: 23 \tTraining Loss: 0.323127\n",
      "Epoch: 23 \tValidation Loss: 0.322138, Accuracy: 0.884700\n",
      "Epoch: 24 \tTraining Loss: 0.321011\n",
      "Epoch: 24 \tValidation Loss: 0.318989, Accuracy: 0.886200\n",
      "Epoch: 25 \tTraining Loss: 0.320806\n",
      "Epoch: 25 \tValidation Loss: 0.319431, Accuracy: 0.884700\n",
      "Epoch: 26 \tTraining Loss: 0.318517\n",
      "Epoch: 26 \tValidation Loss: 0.316861, Accuracy: 0.885900\n",
      "Epoch: 27 \tTraining Loss: 0.316070\n",
      "Epoch: 27 \tValidation Loss: 0.316761, Accuracy: 0.886400\n",
      "Epoch: 28 \tTraining Loss: 0.316766\n",
      "Epoch: 28 \tValidation Loss: 0.315606, Accuracy: 0.886500\n",
      "Epoch: 29 \tTraining Loss: 0.313485\n",
      "Epoch: 29 \tValidation Loss: 0.314166, Accuracy: 0.887500\n",
      "Epoch: 30 \tTraining Loss: 0.311346\n",
      "Epoch: 30 \tValidation Loss: 0.312688, Accuracy: 0.886800\n"
     ]
    }
   ],
   "source": [
    "scheduler = torch.optim.lr_scheduler.StepLR(optimizer1, step_size=10, gamma=0.5)\n",
    "for epoch in range(1, epochs+1):\n",
    "    train(epoch, netcnn, optimizer1)\n",
    "    validate(epoch, netcnn, optimizer1)\n",
    "    scheduler.step()\n"
   ]
  },
  {
   "cell_type": "markdown",
   "id": "ab160ba3",
   "metadata": {},
   "source": [
    "Train MLP Model"
   ]
  },
  {
   "cell_type": "code",
   "execution_count": 40,
   "id": "17d3775f",
   "metadata": {},
   "outputs": [
    {
     "name": "stdout",
     "output_type": "stream",
     "text": [
      "Epoch: 1 \tTraining Loss: 0.159177\n",
      "Epoch: 1 \tValidation Loss: 0.366035, Accuracy: 0.888000\n",
      "Epoch: 2 \tTraining Loss: 0.159315\n",
      "Epoch: 2 \tValidation Loss: 0.344176, Accuracy: 0.891100\n",
      "Epoch: 3 \tTraining Loss: 0.151427\n",
      "Epoch: 3 \tValidation Loss: 0.353249, Accuracy: 0.892900\n",
      "Epoch: 4 \tTraining Loss: 0.148462\n",
      "Epoch: 4 \tValidation Loss: 0.381586, Accuracy: 0.890800\n",
      "Epoch: 5 \tTraining Loss: 0.144204\n",
      "Epoch: 5 \tValidation Loss: 0.379413, Accuracy: 0.890200\n",
      "Epoch: 6 \tTraining Loss: 0.144399\n",
      "Epoch: 6 \tValidation Loss: 0.383760, Accuracy: 0.887100\n",
      "Epoch: 7 \tTraining Loss: 0.141030\n",
      "Epoch: 7 \tValidation Loss: 0.389977, Accuracy: 0.886000\n",
      "Epoch: 8 \tTraining Loss: 0.138712\n",
      "Epoch: 8 \tValidation Loss: 0.366543, Accuracy: 0.891300\n",
      "Epoch: 9 \tTraining Loss: 0.133808\n",
      "Epoch: 9 \tValidation Loss: 0.395987, Accuracy: 0.894700\n",
      "Epoch: 10 \tTraining Loss: 0.132046\n",
      "Epoch: 10 \tValidation Loss: 0.371676, Accuracy: 0.893000\n",
      "Epoch: 11 \tTraining Loss: 0.126154\n",
      "Epoch: 11 \tValidation Loss: 0.391541, Accuracy: 0.887700\n",
      "Epoch: 12 \tTraining Loss: 0.128470\n",
      "Epoch: 12 \tValidation Loss: 0.390070, Accuracy: 0.889300\n",
      "Epoch: 13 \tTraining Loss: 0.119379\n",
      "Epoch: 13 \tValidation Loss: 0.403320, Accuracy: 0.891500\n",
      "Epoch: 14 \tTraining Loss: 0.123303\n",
      "Epoch: 14 \tValidation Loss: 0.402525, Accuracy: 0.888900\n",
      "Epoch: 15 \tTraining Loss: 0.123456\n",
      "Epoch: 15 \tValidation Loss: 0.396577, Accuracy: 0.890500\n",
      "Epoch: 16 \tTraining Loss: 0.116509\n",
      "Epoch: 16 \tValidation Loss: 0.403138, Accuracy: 0.891800\n",
      "Epoch: 17 \tTraining Loss: 0.112138\n",
      "Epoch: 17 \tValidation Loss: 0.435551, Accuracy: 0.888100\n",
      "Epoch: 18 \tTraining Loss: 0.110208\n",
      "Epoch: 18 \tValidation Loss: 0.432003, Accuracy: 0.888300\n",
      "Epoch: 19 \tTraining Loss: 0.116098\n",
      "Epoch: 19 \tValidation Loss: 0.406343, Accuracy: 0.890500\n",
      "Epoch: 20 \tTraining Loss: 0.109674\n",
      "Epoch: 20 \tValidation Loss: 0.436387, Accuracy: 0.888600\n",
      "Epoch: 21 \tTraining Loss: 0.109619\n",
      "Epoch: 21 \tValidation Loss: 0.460781, Accuracy: 0.889300\n",
      "Epoch: 22 \tTraining Loss: 0.105669\n",
      "Epoch: 22 \tValidation Loss: 0.440901, Accuracy: 0.890600\n",
      "Epoch: 23 \tTraining Loss: 0.100963\n",
      "Epoch: 23 \tValidation Loss: 0.453767, Accuracy: 0.887500\n",
      "Epoch: 24 \tTraining Loss: 0.100404\n",
      "Epoch: 24 \tValidation Loss: 0.462360, Accuracy: 0.892000\n",
      "Epoch: 25 \tTraining Loss: 0.098304\n",
      "Epoch: 25 \tValidation Loss: 0.429710, Accuracy: 0.891900\n",
      "Epoch: 26 \tTraining Loss: 0.101534\n",
      "Epoch: 26 \tValidation Loss: 0.415426, Accuracy: 0.894300\n",
      "Epoch: 27 \tTraining Loss: 0.100326\n",
      "Epoch: 27 \tValidation Loss: 0.477764, Accuracy: 0.887600\n",
      "Epoch: 28 \tTraining Loss: 0.096853\n",
      "Epoch: 28 \tValidation Loss: 0.436436, Accuracy: 0.890300\n",
      "Epoch: 29 \tTraining Loss: 0.092034\n",
      "Epoch: 29 \tValidation Loss: 0.468900, Accuracy: 0.887500\n",
      "Epoch: 30 \tTraining Loss: 0.097408\n",
      "Epoch: 30 \tValidation Loss: 0.463235, Accuracy: 0.885700\n"
     ]
    }
   ],
   "source": [
    "for epoch in range(1, epochs+1):\n",
    "    train(epoch,netmlp,optimizer2)\n",
    "    validate(epoch,netmlp,optimizer2)"
   ]
  }
 ],
 "metadata": {
  "kernelspec": {
   "display_name": "d2l",
   "language": "python",
   "name": "python3"
  },
  "language_info": {
   "codemirror_mode": {
    "name": "ipython",
    "version": 3
   },
   "file_extension": ".py",
   "mimetype": "text/x-python",
   "name": "python",
   "nbconvert_exporter": "python",
   "pygments_lexer": "ipython3",
   "version": "3.12.9"
  }
 },
 "nbformat": 4,
 "nbformat_minor": 5
}
